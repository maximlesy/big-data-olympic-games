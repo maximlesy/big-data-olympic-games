{
 "cells": [
  {
   "cell_type": "markdown",
   "metadata": {},
   "source": [
    "# Athletes\n",
    "\n",
    "## Summarize data in Python"
   ]
  },
  {
   "cell_type": "code",
   "execution_count": 1,
   "metadata": {},
   "outputs": [],
   "source": [
    "import pandas as pd\n",
    "\n",
    "athletes = pd.read_csv(\"../dataset/Olympic_Athlete_Bio.csv\")"
   ]
  },
  {
   "cell_type": "markdown",
   "metadata": {},
   "source": [
    "### Shape\n",
    "- Number of features\n",
    "- Number of observations"
   ]
  },
  {
   "cell_type": "code",
   "execution_count": 3,
   "metadata": {},
   "outputs": [
    {
     "name": "stdout",
     "output_type": "stream",
     "text": [
      "(155031, 10)\n"
     ]
    }
   ],
   "source": [
    "print(athletes.shape)"
   ]
  },
  {
   "cell_type": "markdown",
   "metadata": {},
   "source": [
    "### Info()\n",
    "- Data types\n",
    "- Missing data?"
   ]
  },
  {
   "cell_type": "code",
   "execution_count": 4,
   "metadata": {},
   "outputs": [
    {
     "name": "stdout",
     "output_type": "stream",
     "text": [
      "<class 'pandas.core.frame.DataFrame'>\n",
      "RangeIndex: 155031 entries, 0 to 155030\n",
      "Data columns (total 10 columns):\n",
      " #   Column         Non-Null Count   Dtype \n",
      "---  ------         --------------   ----- \n",
      " 0   athlete_id     155031 non-null  int64 \n",
      " 1   name           155031 non-null  object\n",
      " 2   sex            155031 non-null  object\n",
      " 3   born           155031 non-null  object\n",
      " 4   height         155031 non-null  object\n",
      " 5   weight         155031 non-null  object\n",
      " 6   country        155031 non-null  object\n",
      " 7   country_noc    155031 non-null  object\n",
      " 8   description    155031 non-null  object\n",
      " 9   special_notes  155031 non-null  object\n",
      "dtypes: int64(1), object(9)\n",
      "memory usage: 11.8+ MB\n",
      "None\n"
     ]
    }
   ],
   "source": [
    "print(athletes.info())"
   ]
  },
  {
   "cell_type": "markdown",
   "metadata": {},
   "source": [
    "### Lookingat the first linesof the data: .head()\n",
    "- Do the columns make sense?\n",
    "- Do the values in those columns make sense?\n",
    "- Are the values on the right scale?"
   ]
  },
  {
   "cell_type": "code",
   "execution_count": 14,
   "metadata": {},
   "outputs": [
    {
     "name": "stdout",
     "output_type": "stream",
     "text": [
      "   athlete_id                 name     sex        born height weight  \\\n",
      "0       16809       Károly Teppert    Male  1891-07-20     na     na   \n",
      "1       43737    Andrzej Socharski    Male  1947-08-31  173.0     72   \n",
      "2       50147  Nathalie Wunderlich  Female  1971-06-03  170.0     50   \n",
      "3        5085           Miha Lokar    Male  1935-09-10  182.0     76   \n",
      "4      136329          Austin Hack    Male  1992-05-17  203.0    100   \n",
      "\n",
      "          country country_noc  \\\n",
      "0         Hungary         HUN   \n",
      "1          Poland         POL   \n",
      "2     Switzerland         SUI   \n",
      "3      Yugoslavia         YUG   \n",
      "4   United States         USA   \n",
      "\n",
      "                                         description  \\\n",
      "0  Károly Teppert started competing in cycling in...   \n",
      "1                                                 na   \n",
      "2                                                 na   \n",
      "3                                                 na   \n",
      "4                                                 na   \n",
      "\n",
      "                                       special_notes  \n",
      "0                                                 na  \n",
      "1  Listed in Olympians Who Won a Medal at the Wor...  \n",
      "2                                                 na  \n",
      "3  Listed in Olympians Who Won a Medal at the Eur...  \n",
      "4                                                 na  \n"
     ]
    }
   ],
   "source": [
    "print(athletes.head())"
   ]
  },
  {
   "cell_type": "markdown",
   "metadata": {},
   "source": [
    "### Look at the descriptives: .describe()\n",
    "- What is the min, max, mean?\n",
    "- Can you detect outliers?\n",
    "- How many categories for the categorical features?"
   ]
  },
  {
   "cell_type": "code",
   "execution_count": 15,
   "metadata": {},
   "outputs": [
    {
     "name": "stdout",
     "output_type": "stream",
     "text": [
      "         athlete_id\n",
      "count  1.550310e+05\n",
      "mean   1.489261e+05\n",
      "std    3.027535e+05\n",
      "min    1.000000e+00\n",
      "25%    3.906650e+04\n",
      "50%    7.811300e+04\n",
      "75%    1.183005e+05\n",
      "max    2.200000e+07\n"
     ]
    }
   ],
   "source": [
    "print(athletes[['athlete_id']].describe())"
   ]
  },
  {
   "cell_type": "code",
   "execution_count": 16,
   "metadata": {},
   "outputs": [
    {
     "name": "stdout",
     "output_type": "stream",
     "text": [
      "               name\n",
      "count        155031\n",
      "unique       151955\n",
      "top     Ivan Ivanov\n",
      "freq             13\n"
     ]
    }
   ],
   "source": [
    "print(athletes[['name']].describe())"
   ]
  },
  {
   "cell_type": "code",
   "execution_count": 17,
   "metadata": {},
   "outputs": [
    {
     "name": "stdout",
     "output_type": "stream",
     "text": [
      "           sex\n",
      "count   155031\n",
      "unique       2\n",
      "top       Male\n",
      "freq    114755\n"
     ]
    }
   ],
   "source": [
    "print(athletes[['sex']].describe())"
   ]
  },
  {
   "cell_type": "code",
   "execution_count": 18,
   "metadata": {},
   "outputs": [
    {
     "name": "stdout",
     "output_type": "stream",
     "text": [
      "          born\n",
      "count   155031\n",
      "unique   42129\n",
      "top         na\n",
      "freq      4284\n"
     ]
    }
   ],
   "source": [
    "print(athletes[['born']].describe())"
   ]
  },
  {
   "cell_type": "code",
   "execution_count": 19,
   "metadata": {},
   "outputs": [
    {
     "name": "stdout",
     "output_type": "stream",
     "text": [
      "        height\n",
      "count   155031\n",
      "unique      96\n",
      "top         na\n",
      "freq     50547\n"
     ]
    }
   ],
   "source": [
    "print(athletes[['height']].describe())"
   ]
  },
  {
   "cell_type": "code",
   "execution_count": 20,
   "metadata": {},
   "outputs": [
    {
     "name": "stdout",
     "output_type": "stream",
     "text": [
      "        weight\n",
      "count   155031\n",
      "unique     573\n",
      "top         na\n",
      "freq     50547\n"
     ]
    }
   ],
   "source": [
    "print(athletes[['weight']].describe())"
   ]
  },
  {
   "cell_type": "code",
   "execution_count": 21,
   "metadata": {},
   "outputs": [
    {
     "name": "stdout",
     "output_type": "stream",
     "text": [
      "               country\n",
      "count           155031\n",
      "unique             697\n",
      "top      United States\n",
      "freq             11649\n"
     ]
    }
   ],
   "source": [
    "print(athletes[['country']].describe())"
   ]
  },
  {
   "cell_type": "code",
   "execution_count": 22,
   "metadata": {},
   "outputs": [
    {
     "name": "stdout",
     "output_type": "stream",
     "text": [
      "       country_noc\n",
      "count       155031\n",
      "unique         232\n",
      "top            USA\n",
      "freq         11651\n"
     ]
    }
   ],
   "source": [
    "print(athletes[['country_noc']].describe())"
   ]
  },
  {
   "cell_type": "code",
   "execution_count": 23,
   "metadata": {},
   "outputs": [
    {
     "name": "stdout",
     "output_type": "stream",
     "text": [
      "       description\n",
      "count       155031\n",
      "unique       50269\n",
      "top             na\n",
      "freq        103749\n"
     ]
    }
   ],
   "source": [
    "print(athletes[['description']].describe())"
   ]
  },
  {
   "cell_type": "code",
   "execution_count": 24,
   "metadata": {},
   "outputs": [
    {
     "name": "stdout",
     "output_type": "stream",
     "text": [
      "       special_notes\n",
      "count         155031\n",
      "unique         52963\n",
      "top               na\n",
      "freq           94638\n"
     ]
    }
   ],
   "source": [
    "print(athletes[['special_notes']].describe())"
   ]
  },
  {
   "cell_type": "markdown",
   "metadata": {},
   "source": [
    "### iloc (deprecated?)\n",
    "https://pandas.pydata.org/docs/reference/api/pandas.DataFrame.iloc.html"
   ]
  },
  {
   "cell_type": "code",
   "execution_count": 25,
   "metadata": {},
   "outputs": [
    {
     "name": "stdout",
     "output_type": "stream",
     "text": [
      "          athlete_id         name     sex    born  height  weight  \\\n",
      "count   1.550310e+05       155031  155031  155031  155031  155031   \n",
      "unique           NaN       151955       2   42129      96     573   \n",
      "top              NaN  Ivan Ivanov    Male      na      na      na   \n",
      "freq             NaN           13  114755    4284   50547   50547   \n",
      "mean    1.489261e+05          NaN     NaN     NaN     NaN     NaN   \n",
      "std     3.027535e+05          NaN     NaN     NaN     NaN     NaN   \n",
      "min     1.000000e+00          NaN     NaN     NaN     NaN     NaN   \n",
      "25%     3.906650e+04          NaN     NaN     NaN     NaN     NaN   \n",
      "50%     7.811300e+04          NaN     NaN     NaN     NaN     NaN   \n",
      "75%     1.183005e+05          NaN     NaN     NaN     NaN     NaN   \n",
      "max     2.200000e+07          NaN     NaN     NaN     NaN     NaN   \n",
      "\n",
      "               country country_noc description special_notes  \n",
      "count           155031      155031      155031        155031  \n",
      "unique             697         232       50269         52963  \n",
      "top      United States         USA          na            na  \n",
      "freq             11649       11651      103749         94638  \n",
      "mean               NaN         NaN         NaN           NaN  \n",
      "std                NaN         NaN         NaN           NaN  \n",
      "min                NaN         NaN         NaN           NaN  \n",
      "25%                NaN         NaN         NaN           NaN  \n",
      "50%                NaN         NaN         NaN           NaN  \n",
      "75%                NaN         NaN         NaN           NaN  \n",
      "max                NaN         NaN         NaN           NaN  \n"
     ]
    }
   ],
   "source": [
    "print(athletes.iloc[:].describe(include=\"all\"))"
   ]
  },
  {
   "cell_type": "markdown",
   "metadata": {},
   "source": [
    "### Other interesting methods: \n",
    "- .value_counts()\n",
    "    - How many unique values for the categorical features? \n",
    "- .agg()\n",
    "    - Combines different statistic values"
   ]
  },
  {
   "cell_type": "code",
   "execution_count": 26,
   "metadata": {},
   "outputs": [
    {
     "name": "stdout",
     "output_type": "stream",
     "text": [
      "name              \n",
      "Ivan Ivanov           13\n",
      "José García            9\n",
      "José González          9\n",
      "Luis López             9\n",
      "José Pérez             8\n",
      "                      ..\n",
      "Gustav Weinkötz        1\n",
      "Gustav Zinke           1\n",
      "Gustav Östling         1\n",
      "Gustav-Adolf Moths     1\n",
      "Аlex Halcheniuk        1\n",
      "Name: count, Length: 151955, dtype: int64\n"
     ]
    }
   ],
   "source": [
    "print(athletes[['name']].value_counts() )"
   ]
  },
  {
   "cell_type": "markdown",
   "metadata": {},
   "source": [
    "## Exploring the NA's"
   ]
  },
  {
   "cell_type": "code",
   "execution_count": 27,
   "metadata": {},
   "outputs": [
    {
     "name": "stdout",
     "output_type": "stream",
     "text": [
      "== athlete_id ==\n",
      "Empty DataFrame\n",
      "Columns: [athlete_id, name, sex, born, height, weight, country, country_noc, description, special_notes]\n",
      "Index: []\n",
      "\n",
      "== name ==\n",
      "Empty DataFrame\n",
      "Columns: [athlete_id, name, sex, born, height, weight, country, country_noc, description, special_notes]\n",
      "Index: []\n",
      "\n",
      "== sex ==\n",
      "Empty DataFrame\n",
      "Columns: [athlete_id, name, sex, born, height, weight, country, country_noc, description, special_notes]\n",
      "Index: []\n",
      "\n",
      "== born ==\n",
      "        athlete_id                name   sex born height weight  \\\n",
      "12           35720       Achille Mengé  Male   na     na     na   \n",
      "28         1805042     Adolf Hammacher  Male   na     na     na   \n",
      "33           80268          G. Bessing  Male   na     na     na   \n",
      "109          22721  Aristide Pontenani  Male   na     na     na   \n",
      "112        1005156     Nikola Dimitrov  Male   na     na     na   \n",
      "...            ...                 ...   ...  ...    ...    ...   \n",
      "154899      922978            M. Jirda  Male   na     na     na   \n",
      "154903      892281         E. E. Parry  Male   na     na     na   \n",
      "154905      890604             Ermolli  Male   na     na     na   \n",
      "154970      890298       Émile Charvin  Male   na     na     na   \n",
      "155007      900724       Karel Steiner  Male   na     na     na   \n",
      "\n",
      "                country country_noc description special_notes  \n",
      "12              Belgium         BEL          na            na  \n",
      "28              Germany         GER          na            na  \n",
      "33               France         FRA          na            na  \n",
      "109               Italy         ITA          na            na  \n",
      "112            Bulgaria         BUL          na            na  \n",
      "...                 ...         ...         ...           ...  \n",
      "154899   Czechoslovakia         TCH          na            na  \n",
      "154903    United States         USA          na            na  \n",
      "154905            Italy         ITA          na            na  \n",
      "154970           France         FRA          na            na  \n",
      "155007   Czechoslovakia         TCH          na            na  \n",
      "\n",
      "[4284 rows x 10 columns]\n",
      "\n",
      "== height ==\n",
      "        athlete_id                        name     sex        born height  \\\n",
      "0            16809              Károly Teppert    Male  1891-07-20     na   \n",
      "6            24791                 Saad Rashed    Male  1928-11-20     na   \n",
      "9            74076            Hassan Illiassou    Male  1966-09-22     na   \n",
      "12           35720               Achille Mengé    Male          na     na   \n",
      "14          142137      Nanna Skodborg Merrald  Female  1993-10-08     na   \n",
      "...            ...                         ...     ...         ...    ...   \n",
      "155013       19515               Jo Myeong-Jun    Male  1970-07-29     na   \n",
      "155014       25572      Ioannis Andrianopoulos    Male  1900-01-01     na   \n",
      "155018       51182             Frances Schroth  Female  1893-04-11     na   \n",
      "155019      146786         Gabriel Gerald Geay    Male  1996-09-10     na   \n",
      "155027      701697  Hendrik Mangelaar Meertens    Male  1908-09-30     na   \n",
      "\n",
      "       weight                                         country country_noc  \\\n",
      "0          na                                         Hungary         HUN   \n",
      "6          na                                           Egypt         EGY   \n",
      "9          na                                           Niger         NIG   \n",
      "12         na                                         Belgium         BEL   \n",
      "14         na                                         Denmark         DEN   \n",
      "...       ...                                             ...         ...   \n",
      "155013     na   People's Republic of China  Republic of Korea         CHN   \n",
      "155014     na                                          Greece         GRE   \n",
      "155018     na                                   United States         USA   \n",
      "155019     na                     United Republic of Tanzania         TAN   \n",
      "155027     na                                     Netherlands         NED   \n",
      "\n",
      "                                              description  \\\n",
      "0       Károly Teppert started competing in cycling in...   \n",
      "6                                                      na   \n",
      "9                       Personal Best: 100 – 10.3 (1994).   \n",
      "12                                                     na   \n",
      "14                                                     na   \n",
      "...                                                   ...   \n",
      "155013                                                 na   \n",
      "155014                                                 na   \n",
      "155018  Mrs. Frances Schroth, from Oakland, California...   \n",
      "155019                                                 na   \n",
      "155027  Hendrik Mangelaar Meertens, usually known as “...   \n",
      "\n",
      "                                            special_notes  \n",
      "0                                                      na  \n",
      "6       Listed in Olympians Who Won a Medal at the Med...  \n",
      "9                                                      na  \n",
      "12                                                     na  \n",
      "14                                                     na  \n",
      "...                                                   ...  \n",
      "155013  Listed in Olympians Who Won a Medal at the Asi...  \n",
      "155014                 Brother of Georgios Andrianopoulos  \n",
      "155018  Wife of George Schroth Listed in Olympians Who...  \n",
      "155019                                                 na  \n",
      "155027  Listed in Olympians Who Were Killed or Missing...  \n",
      "\n",
      "[50547 rows x 10 columns]\n",
      "\n",
      "== weight ==\n",
      "        athlete_id                        name     sex        born height  \\\n",
      "0            16809              Károly Teppert    Male  1891-07-20     na   \n",
      "6            24791                 Saad Rashed    Male  1928-11-20     na   \n",
      "9            74076            Hassan Illiassou    Male  1966-09-22     na   \n",
      "12           35720               Achille Mengé    Male          na     na   \n",
      "14          142137      Nanna Skodborg Merrald  Female  1993-10-08     na   \n",
      "...            ...                         ...     ...         ...    ...   \n",
      "155013       19515               Jo Myeong-Jun    Male  1970-07-29     na   \n",
      "155014       25572      Ioannis Andrianopoulos    Male  1900-01-01     na   \n",
      "155018       51182             Frances Schroth  Female  1893-04-11     na   \n",
      "155019      146786         Gabriel Gerald Geay    Male  1996-09-10     na   \n",
      "155027      701697  Hendrik Mangelaar Meertens    Male  1908-09-30     na   \n",
      "\n",
      "       weight                                         country country_noc  \\\n",
      "0          na                                         Hungary         HUN   \n",
      "6          na                                           Egypt         EGY   \n",
      "9          na                                           Niger         NIG   \n",
      "12         na                                         Belgium         BEL   \n",
      "14         na                                         Denmark         DEN   \n",
      "...       ...                                             ...         ...   \n",
      "155013     na   People's Republic of China  Republic of Korea         CHN   \n",
      "155014     na                                          Greece         GRE   \n",
      "155018     na                                   United States         USA   \n",
      "155019     na                     United Republic of Tanzania         TAN   \n",
      "155027     na                                     Netherlands         NED   \n",
      "\n",
      "                                              description  \\\n",
      "0       Károly Teppert started competing in cycling in...   \n",
      "6                                                      na   \n",
      "9                       Personal Best: 100 – 10.3 (1994).   \n",
      "12                                                     na   \n",
      "14                                                     na   \n",
      "...                                                   ...   \n",
      "155013                                                 na   \n",
      "155014                                                 na   \n",
      "155018  Mrs. Frances Schroth, from Oakland, California...   \n",
      "155019                                                 na   \n",
      "155027  Hendrik Mangelaar Meertens, usually known as “...   \n",
      "\n",
      "                                            special_notes  \n",
      "0                                                      na  \n",
      "6       Listed in Olympians Who Won a Medal at the Med...  \n",
      "9                                                      na  \n",
      "12                                                     na  \n",
      "14                                                     na  \n",
      "...                                                   ...  \n",
      "155013  Listed in Olympians Who Won a Medal at the Asi...  \n",
      "155014                 Brother of Georgios Andrianopoulos  \n",
      "155018  Wife of George Schroth Listed in Olympians Who...  \n",
      "155019                                                 na  \n",
      "155027  Listed in Olympians Who Were Killed or Missing...  \n",
      "\n",
      "[50547 rows x 10 columns]\n",
      "\n",
      "== country ==\n",
      "Empty DataFrame\n",
      "Columns: [athlete_id, name, sex, born, height, weight, country, country_noc, description, special_notes]\n",
      "Index: []\n",
      "\n",
      "== country_noc ==\n",
      "Empty DataFrame\n",
      "Columns: [athlete_id, name, sex, born, height, weight, country, country_noc, description, special_notes]\n",
      "Index: []\n",
      "\n",
      "== description ==\n",
      "        athlete_id                 name     sex        born height weight  \\\n",
      "1            43737    Andrzej Socharski    Male  1947-08-31  173.0     72   \n",
      "2            50147  Nathalie Wunderlich  Female  1971-06-03  170.0     50   \n",
      "3             5085           Miha Lokar    Male  1935-09-10  182.0     76   \n",
      "4           136329          Austin Hack    Male  1992-05-17  203.0    100   \n",
      "5            38633     Tsuneo Ogasawara    Male  1942-07-30  181.0     80   \n",
      "...            ...                  ...     ...         ...    ...    ...   \n",
      "155023      130844         Miyu Nagaoka  Female  1991-07-25  179.0     64   \n",
      "155024      102267    Leonīds Tambijevs    Male  1970-09-26  176.0     85   \n",
      "155026       25136         Jean Palluch    Male  1923-12-23  180.0     80   \n",
      "155028       11757        Jo Hyeong-Won    Male  1936-07-12  173.0     65   \n",
      "155029       21666          Raúl Maroto    Male  1965-09-05  190.0     76   \n",
      "\n",
      "                   country country_noc description  \\\n",
      "1                   Poland         POL          na   \n",
      "2              Switzerland         SUI          na   \n",
      "3               Yugoslavia         YUG          na   \n",
      "4            United States         USA          na   \n",
      "5                    Japan         JPN          na   \n",
      "...                    ...         ...         ...   \n",
      "155023               Japan         JPN          na   \n",
      "155024              Latvia         LAT          na   \n",
      "155026              France         FRA          na   \n",
      "155028   Republic of Korea         KOR          na   \n",
      "155029               Spain         ESP          na   \n",
      "\n",
      "                                            special_notes  \n",
      "1       Listed in Olympians Who Won a Medal at the Wor...  \n",
      "2                                                      na  \n",
      "3       Listed in Olympians Who Won a Medal at the Eur...  \n",
      "4                                                      na  \n",
      "5                                                      na  \n",
      "...                                                   ...  \n",
      "155023                                                 na  \n",
      "155024                                                 na  \n",
      "155026                                                 na  \n",
      "155028                                                 na  \n",
      "155029  Listed in Olympians Who Won a Medal at the Med...  \n",
      "\n",
      "[103749 rows x 10 columns]\n",
      "\n",
      "== special_notes ==\n",
      "        athlete_id                 name     sex        born height weight  \\\n",
      "0            16809       Károly Teppert    Male  1891-07-20     na     na   \n",
      "2            50147  Nathalie Wunderlich  Female  1971-06-03  170.0     50   \n",
      "4           136329          Austin Hack    Male  1992-05-17  203.0    100   \n",
      "5            38633     Tsuneo Ogasawara    Male  1942-07-30  181.0     80   \n",
      "7            77095       Fulgence Rwabu    Male  1947-11-23  165.0     51   \n",
      "...            ...                  ...     ...         ...    ...    ...   \n",
      "155024      102267    Leonīds Tambijevs    Male  1970-09-26  176.0     85   \n",
      "155025       74088       Oddrun Hokland  Female  1942-11-29  162.0     59   \n",
      "155026       25136         Jean Palluch    Male  1923-12-23  180.0     80   \n",
      "155028       11757        Jo Hyeong-Won    Male  1936-07-12  173.0     65   \n",
      "155030       72486       Shizo Kanakuri    Male  1891-08-20  170.0     64   \n",
      "\n",
      "                   country country_noc  \\\n",
      "0                  Hungary         HUN   \n",
      "2              Switzerland         SUI   \n",
      "4            United States         USA   \n",
      "5                    Japan         JPN   \n",
      "7                   Uganda         UGA   \n",
      "...                    ...         ...   \n",
      "155024              Latvia         LAT   \n",
      "155025              Norway         NOR   \n",
      "155026              France         FRA   \n",
      "155028   Republic of Korea         KOR   \n",
      "155030               Japan         JPN   \n",
      "\n",
      "                                              description special_notes  \n",
      "0       Károly Teppert started competing in cycling in...            na  \n",
      "2                                                      na            na  \n",
      "4                                                      na            na  \n",
      "5                                                      na            na  \n",
      "7                           Personal Best: Mar – unknown.            na  \n",
      "...                                                   ...           ...  \n",
      "155024                                                 na            na  \n",
      "155025  Personal Bests: LJ – 6.26 (1964); Pen – 4540 (...            na  \n",
      "155026                                                 na            na  \n",
      "155028                                                 na            na  \n",
      "155030  Kanakuri had a weak constitution as a child un...            na  \n",
      "\n",
      "[94638 rows x 10 columns]\n"
     ]
    }
   ],
   "source": [
    "print(\"== athlete_id ==\");\n",
    "print(athletes[athletes['athlete_id'] == 'na'])\n",
    "print(\"\\n== name ==\");\n",
    "print(athletes[athletes['name'] == 'na'])\n",
    "print(\"\\n== sex ==\")\n",
    "print(athletes[athletes['sex'] == 'na'])\n",
    "print(\"\\n== born ==\")\n",
    "print(athletes[athletes['born'] == 'na'])\n",
    "print(\"\\n== height ==\")\n",
    "print(athletes[athletes['height'] == 'na'])\n",
    "print(\"\\n== weight ==\")\n",
    "print(athletes[athletes['weight'] == 'na'])\n",
    "print(\"\\n== country ==\")\n",
    "print(athletes[athletes['country'] == 'na'])\n",
    "print(\"\\n== country_noc ==\")\n",
    "print(athletes[athletes['country_noc'] == 'na'])\n",
    "print(\"\\n== description ==\")\n",
    "print(athletes[athletes['description'] == 'na'])\n",
    "print(\"\\n== special_notes ==\")\n",
    "print(athletes[athletes['special_notes'] == 'na'])"
   ]
  },
  {
   "cell_type": "markdown",
   "metadata": {},
   "source": [
    "### Duplicated names"
   ]
  },
  {
   "cell_type": "code",
   "execution_count": 49,
   "metadata": {},
   "outputs": [
    {
     "name": "stdout",
     "output_type": "stream",
     "text": [
      "        athlete_id            name     sex          born height weight  \\\n",
      "146839        5413      Alessandra  Female    1973-12-02  200.0     85   \n",
      "110171      109555           Aline  Female    1982-07-06  180.0     71   \n",
      "43039       129263           Aline  Female    1989-04-15  162.0     60   \n",
      "90932      1005771          Amauri    Male    1932-05-19     na     na   \n",
      "122351      112066       Ana Paula  Female    1987-10-18  172.0     67   \n",
      "...            ...             ...     ...           ...    ...    ...   \n",
      "56938       123251     Óscar Muñoz    Male    1993-05-09  178.0     58   \n",
      "26292        24512     Óscar Muñoz    Male    1949-05-20  170.0     67   \n",
      "136368     1005440     Óscar Pérez    Male  (circa 1923)     na     na   \n",
      "32397       700994     Óscar Pérez    Male    1973-02-01  171.0     72   \n",
      "144815       87355  Ștefan Ionescu    Male    1935-02-17  167.0     76   \n",
      "\n",
      "           country country_noc description  \\\n",
      "146839      Brazil         BRA          na   \n",
      "110171      Brazil         BRA          na   \n",
      "43039       Brazil         BRA          na   \n",
      "90932       Brazil         BRA          na   \n",
      "122351      Brazil         BRA          na   \n",
      "...            ...         ...         ...   \n",
      "56938     Colombia         COL          na   \n",
      "26292     Colombia         COL          na   \n",
      "136368   Argentina         ARG          na   \n",
      "32397       Mexico         MEX          na   \n",
      "144815     Romania         ROU          na   \n",
      "\n",
      "                                            special_notes  \n",
      "146839  Listed in Olympians Who Won a Medal at the Bas...  \n",
      "110171  Listed in Olympians Who Participated in the 20...  \n",
      "43039                                                  na  \n",
      "90932                                                  na  \n",
      "122351  Listed in Olympians Who Won a Medal at the Sum...  \n",
      "...                                                   ...  \n",
      "56938   Listed in Olympians Who Won a Medal at the Cen...  \n",
      "26292                                                  na  \n",
      "136368                                                 na  \n",
      "32397   Listed in Olympians Who Won a Medal at the Sum...  \n",
      "144815                                                 na  \n",
      "\n",
      "[3076 rows x 10 columns]\n"
     ]
    }
   ],
   "source": [
    "print(athletes[athletes[\"name\"].duplicated() == True].sort_values(by=['name']))"
   ]
  },
  {
   "cell_type": "code",
   "execution_count": 51,
   "metadata": {},
   "outputs": [
    {
     "ename": "AttributeError",
     "evalue": "'DataFrame' object has no attribute 'to_datetime'",
     "output_type": "error",
     "traceback": [
      "\u001b[1;31m---------------------------------------------------------------------------\u001b[0m",
      "\u001b[1;31mAttributeError\u001b[0m                            Traceback (most recent call last)",
      "\u001b[1;32m~\\AppData\\Local\\Temp\\ipykernel_26352\\1899764193.py\u001b[0m in \u001b[0;36m?\u001b[1;34m()\u001b[0m\n\u001b[1;32m----> 1\u001b[1;33m \u001b[0mprint\u001b[0m\u001b[1;33m(\u001b[0m\u001b[0mathletes\u001b[0m\u001b[1;33m.\u001b[0m\u001b[0mto_datetime\u001b[0m\u001b[1;33m(\u001b[0m\u001b[0mathletes\u001b[0m\u001b[1;33m[\u001b[0m\u001b[1;34m'born'\u001b[0m\u001b[1;33m]\u001b[0m\u001b[1;33m,\u001b[0m \u001b[0mformat\u001b[0m\u001b[1;33m=\u001b[0m\u001b[1;34m'%y%m%d'\u001b[0m\u001b[1;33m)\u001b[0m\u001b[1;33m)\u001b[0m\u001b[1;33m\u001b[0m\u001b[1;33m\u001b[0m\u001b[0m\n\u001b[0m",
      "\u001b[1;32mc:\\Users\\dries.deboosere\\AppData\\Local\\Programs\\Python\\Python312\\Lib\\site-packages\\pandas\\core\\generic.py\u001b[0m in \u001b[0;36m?\u001b[1;34m(self, name)\u001b[0m\n\u001b[0;32m   6292\u001b[0m             \u001b[1;32mand\u001b[0m \u001b[0mname\u001b[0m \u001b[1;32mnot\u001b[0m \u001b[1;32min\u001b[0m \u001b[0mself\u001b[0m\u001b[1;33m.\u001b[0m\u001b[0m_accessors\u001b[0m\u001b[1;33m\u001b[0m\u001b[1;33m\u001b[0m\u001b[0m\n\u001b[0;32m   6293\u001b[0m             \u001b[1;32mand\u001b[0m \u001b[0mself\u001b[0m\u001b[1;33m.\u001b[0m\u001b[0m_info_axis\u001b[0m\u001b[1;33m.\u001b[0m\u001b[0m_can_hold_identifiers_and_holds_name\u001b[0m\u001b[1;33m(\u001b[0m\u001b[0mname\u001b[0m\u001b[1;33m)\u001b[0m\u001b[1;33m\u001b[0m\u001b[1;33m\u001b[0m\u001b[0m\n\u001b[0;32m   6294\u001b[0m         \u001b[1;33m)\u001b[0m\u001b[1;33m:\u001b[0m\u001b[1;33m\u001b[0m\u001b[1;33m\u001b[0m\u001b[0m\n\u001b[0;32m   6295\u001b[0m             \u001b[1;32mreturn\u001b[0m \u001b[0mself\u001b[0m\u001b[1;33m[\u001b[0m\u001b[0mname\u001b[0m\u001b[1;33m]\u001b[0m\u001b[1;33m\u001b[0m\u001b[1;33m\u001b[0m\u001b[0m\n\u001b[1;32m-> 6296\u001b[1;33m         \u001b[1;32mreturn\u001b[0m \u001b[0mobject\u001b[0m\u001b[1;33m.\u001b[0m\u001b[0m__getattribute__\u001b[0m\u001b[1;33m(\u001b[0m\u001b[0mself\u001b[0m\u001b[1;33m,\u001b[0m \u001b[0mname\u001b[0m\u001b[1;33m)\u001b[0m\u001b[1;33m\u001b[0m\u001b[1;33m\u001b[0m\u001b[0m\n\u001b[0m",
      "\u001b[1;31mAttributeError\u001b[0m: 'DataFrame' object has no attribute 'to_datetime'"
     ]
    }
   ],
   "source": [
    "print(athletes.to_datetime(athletes['born'], format='%y%m%d'))"
   ]
  }
 ],
 "metadata": {
  "kernelspec": {
   "display_name": "Python 3",
   "language": "python",
   "name": "python3"
  },
  "language_info": {
   "codemirror_mode": {
    "name": "ipython",
    "version": 3
   },
   "file_extension": ".py",
   "mimetype": "text/x-python",
   "name": "python",
   "nbconvert_exporter": "python",
   "pygments_lexer": "ipython3",
   "version": "3.12.3"
  }
 },
 "nbformat": 4,
 "nbformat_minor": 2
}
